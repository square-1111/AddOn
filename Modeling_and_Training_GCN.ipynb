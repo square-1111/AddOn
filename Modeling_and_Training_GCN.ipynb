{
  "nbformat": 4,
  "nbformat_minor": 0,
  "metadata": {
    "colab": {
      "name": "Modeling and Training GCN",
      "provenance": [],
      "collapsed_sections": [],
      "toc_visible": true,
      "include_colab_link": true
    },
    "kernelspec": {
      "name": "python3",
      "display_name": "Python 3"
    },
    "accelerator": "GPU"
  },
  "cells": [
    {
      "cell_type": "markdown",
      "metadata": {
        "id": "view-in-github",
        "colab_type": "text"
      },
      "source": [
        "<a href=\"https://colab.research.google.com/github/square-1111/AddOn/blob/master/Modeling_and_Training_GCN.ipynb\" target=\"_parent\"><img src=\"https://colab.research.google.com/assets/colab-badge.svg\" alt=\"Open In Colab\"/></a>"
      ]
    },
    {
      "cell_type": "markdown",
      "metadata": {
        "id": "c8oWLFrvNXIs",
        "colab_type": "text"
      },
      "source": [
        "## Load Corpus\n"
      ]
    },
    {
      "cell_type": "code",
      "metadata": {
        "id": "C1QNPuW-Yyl_",
        "colab_type": "code",
        "outputId": "ad2e1934-f050-40a9-de81-f3e3587e982b",
        "colab": {
          "base_uri": "https://localhost:8080/",
          "height": 124
        }
      },
      "source": [
        "from google.colab import drive\n",
        "drive.mount('/content/drive')"
      ],
      "execution_count": 0,
      "outputs": [
        {
          "output_type": "stream",
          "text": [
            "Go to this URL in a browser: https://accounts.google.com/o/oauth2/auth?client_id=947318989803-6bn6qk8qdgf4n4g3pfee6491hc0brc4i.apps.googleusercontent.com&redirect_uri=urn%3Aietf%3Awg%3Aoauth%3A2.0%3Aoob&scope=email%20https%3A%2F%2Fwww.googleapis.com%2Fauth%2Fdocs.test%20https%3A%2F%2Fwww.googleapis.com%2Fauth%2Fdrive%20https%3A%2F%2Fwww.googleapis.com%2Fauth%2Fdrive.photos.readonly%20https%3A%2F%2Fwww.googleapis.com%2Fauth%2Fpeopleapi.readonly&response_type=code\n",
            "\n",
            "Enter your authorization code:\n",
            "··········\n",
            "Mounted at /content/drive\n"
          ],
          "name": "stdout"
        }
      ]
    },
    {
      "cell_type": "code",
      "metadata": {
        "id": "irWHWaFgNaci",
        "colab_type": "code",
        "colab": {}
      },
      "source": [
        "names = ['x', 'y', 'tx', 'ty', 'adj']"
      ],
      "execution_count": 0,
      "outputs": []
    },
    {
      "cell_type": "code",
      "metadata": {
        "id": "rrlq_p3nZuMK",
        "colab_type": "code",
        "colab": {}
      },
      "source": [
        "import pickle as pkl\n",
        "import sys\n",
        "import networkx as nx"
      ],
      "execution_count": 0,
      "outputs": []
    },
    {
      "cell_type": "code",
      "metadata": {
        "id": "eVTEBR5CNASi",
        "colab_type": "code",
        "colab": {}
      },
      "source": [
        "import math\n",
        "import torch\n",
        "from torch.nn.parameter import Parameter\n",
        "from torch.nn.modules.module import Module\n",
        "import torch.nn.functional as F\n",
        "import numpy as np"
      ],
      "execution_count": 0,
      "outputs": []
    },
    {
      "cell_type": "code",
      "metadata": {
        "id": "-0jOYgs_aQAF",
        "colab_type": "code",
        "colab": {}
      },
      "source": [
        "from scipy.sparse import csr_matrix"
      ],
      "execution_count": 0,
      "outputs": []
    },
    {
      "cell_type": "code",
      "metadata": {
        "id": "2aPDNCaqbUzm",
        "colab_type": "code",
        "colab": {}
      },
      "source": [
        "def sparse_mx_to_torch_sparse_tensor(sparse_mx):\n",
        "    \"\"\"Convert a scipy sparse matrix to a torch sparse tensor.\"\"\"\n",
        "    sparse_mx = sparse_mx.tocoo().astype(np.float32)\n",
        "    indices = torch.from_numpy(\n",
        "        np.vstack((sparse_mx.row, sparse_mx.col)).astype(np.int64))\n",
        "    values = torch.from_numpy(sparse_mx.data)\n",
        "    shape = torch.Size(sparse_mx.shape)\n",
        "    return torch.sparse.FloatTensor(indices, values, shape)"
      ],
      "execution_count": 0,
      "outputs": []
    },
    {
      "cell_type": "code",
      "metadata": {
        "id": "XS86XO5HZx9x",
        "colab_type": "code",
        "colab": {}
      },
      "source": [
        "objects = []\n",
        "for i in range(len(names)):\n",
        "    with open(\"drive/My Drive/GCN/Data/ind.20NG.{}\".format(names[i]), 'rb') as f:\n",
        "      if sys.version_info > (3, 0):\n",
        "        objects.append(pkl.load(f, encoding='latin1'))\n",
        "      else:\n",
        "        objects.append(pkl.load(f))"
      ],
      "execution_count": 0,
      "outputs": []
    },
    {
      "cell_type": "code",
      "metadata": {
        "id": "gOY45SxWah_7",
        "colab_type": "code",
        "colab": {}
      },
      "source": [
        "train_x, train_lab, test_x, test_lab, graph = tuple(objects)"
      ],
      "execution_count": 0,
      "outputs": []
    },
    {
      "cell_type": "code",
      "metadata": {
        "id": "tn1h0srObISo",
        "colab_type": "code",
        "colab": {}
      },
      "source": [
        "adj = sparse_mx_to_torch_sparse_tensor(graph)"
      ],
      "execution_count": 0,
      "outputs": []
    },
    {
      "cell_type": "code",
      "metadata": {
        "id": "_hJdOV4eAvxT",
        "colab_type": "code",
        "colab": {}
      },
      "source": [
        "features = torch.FloatTensor(train_x.todense())"
      ],
      "execution_count": 0,
      "outputs": []
    },
    {
      "cell_type": "code",
      "metadata": {
        "id": "3qMsIVLecv4y",
        "colab_type": "code",
        "colab": {}
      },
      "source": [
        "test_x = sparse_mx_to_torch_sparse_tensor(test_x)"
      ],
      "execution_count": 0,
      "outputs": []
    },
    {
      "cell_type": "code",
      "metadata": {
        "id": "ccARs5jMdG0c",
        "colab_type": "code",
        "colab": {}
      },
      "source": [
        "train_lab = torch.FloatTensor(train_lab)\n",
        "test_lab = torch.FloatTensor(test_lab)"
      ],
      "execution_count": 0,
      "outputs": []
    },
    {
      "cell_type": "markdown",
      "metadata": {
        "id": "QehHtmBtM-CH",
        "colab_type": "text"
      },
      "source": [
        "## Model\n"
      ]
    },
    {
      "cell_type": "code",
      "metadata": {
        "id": "YAwtRbCZNDNx",
        "colab_type": "code",
        "colab": {}
      },
      "source": [
        "class GraphConvolution(Module):\n",
        "  def __init__(self, in_features, out_features):\n",
        "    super(GraphConvolution, self).__init__()\n",
        "    self.in_features = in_features\n",
        "    self.out_features = out_features\n",
        "    self.weight = Parameter(torch.FloatTensor(in_features, out_features))\n",
        "    self.bias = Parameter(torch.FloatTensor(out_features))\n",
        "    self.reset_parameters()\n",
        "\n",
        "  def reset_parameters(self):\n",
        "    stdv = 1. / math.sqrt(self.weight.size(1))\n",
        "    self.weight.data.uniform_(-stdv, stdv)\n",
        "    self.bias.data.uniform_(-stdv, stdv)\n",
        "\n",
        "  def forward(self, input, adj):\n",
        "    support = torch.mm(input, self.weight)\n",
        "    output = torch.sparse.mm(adj, support)\n",
        "    return output + self.bias\n",
        "\n",
        "  def __repr__(self):\n",
        "    return self.__class__.__name__ + ' (' \\\n",
        "            + str(self.in_features) + ' -> ' \\\n",
        "            + str(self.out_features) + ')'"
      ],
      "execution_count": 0,
      "outputs": []
    },
    {
      "cell_type": "code",
      "metadata": {
        "id": "xFm8mX69NEOj",
        "colab_type": "code",
        "colab": {}
      },
      "source": [
        "class GCN(Module):\n",
        "  def __init__(self, nfeat, nhid, nclass, dropout):\n",
        "    super(GCN, self).__init__()\n",
        "    self.gc1 = GraphConvolution(nfeat, nhid)\n",
        "    self.gc2 = GraphConvolution(nhid, nclass)\n",
        "    self.dropout = dropout\n",
        "\n",
        "  def forward(self, x, adj):\n",
        "    x = F.relu(self.gc1(x, adj))\n",
        "    x = F.dropout(x, self.dropout, training=self.training)\n",
        "    x = self.gc2(x, adj)\n",
        "    return F.log_softmax(x, dim=1)"
      ],
      "execution_count": 0,
      "outputs": []
    },
    {
      "cell_type": "code",
      "metadata": {
        "id": "e6ipNxqgNF6S",
        "colab_type": "code",
        "colab": {}
      },
      "source": [
        "model = GCN(features.shape[1], 64, 20, 0.5)"
      ],
      "execution_count": 0,
      "outputs": []
    },
    {
      "cell_type": "code",
      "metadata": {
        "id": "7F8DpKPF2Ujw",
        "colab_type": "code",
        "colab": {}
      },
      "source": [
        "import torch.optim as optim"
      ],
      "execution_count": 0,
      "outputs": []
    },
    {
      "cell_type": "code",
      "metadata": {
        "id": "wTIWDEaG2EXy",
        "colab_type": "code",
        "colab": {}
      },
      "source": [
        "optimizer = optim.Adam(model.parameters(),\n",
        "                       lr=0.01, weight_decay=5e-4)"
      ],
      "execution_count": 0,
      "outputs": []
    },
    {
      "cell_type": "code",
      "metadata": {
        "id": "hwloC6lD2g-L",
        "colab_type": "code",
        "colab": {}
      },
      "source": [
        "if torch.cuda.is_available():\n",
        "  model = model.cuda()\n",
        "  features = features.cuda()\n",
        "  adj = adj.cuda()\n",
        "  features = features.cuda()\n",
        "  train_lab = train_lab.cuda()\n",
        "  # test_x = test_x.cuda()"
      ],
      "execution_count": 0,
      "outputs": []
    },
    {
      "cell_type": "code",
      "metadata": {
        "id": "etFIwIAFdw-t",
        "colab_type": "code",
        "colab": {}
      },
      "source": [
        "epoch = 500\n",
        "idx_train = range(200)"
      ],
      "execution_count": 0,
      "outputs": []
    },
    {
      "cell_type": "code",
      "metadata": {
        "id": "Q7BUY7Ak2lcc",
        "colab_type": "code",
        "colab": {}
      },
      "source": [
        "for i in range(epoch):\n",
        "  model.train()\n",
        "  optimizer.zero_grad()\n",
        "  output = model(features, adj)\n",
        "  loss_train = F.nll_loss(output[idx_train], labels[idx_train])\n",
        "  acc_train = accuracy(output[idx_train], labels[idx_train])\n",
        "  loss_train.backward()\n",
        "  optimizer.step()\n",
        "  "
      ],
      "execution_count": 0,
      "outputs": []
    }
  ]
}